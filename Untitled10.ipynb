{
 "cells": [
  {
   "cell_type": "code",
   "execution_count": 1,
   "id": "8b32b6a2",
   "metadata": {},
   "outputs": [],
   "source": [
    "import pandas as pd\n",
    "import numpy as np\n",
    "from matplotlib import pyplot as plt\n",
    "import seaborn as sns\n",
    "import numpy as np \n",
    "import os\n",
    "from PIL import Image\n",
    "import time\n",
    "import random\n",
    "import json \n",
    "import ast\n",
    "import cv2\n",
    "\n",
    "random.seed(42)\n",
    "size = 512"
   ]
  },
  {
   "cell_type": "code",
   "execution_count": 2,
   "id": "7b4a6d1c",
   "metadata": {},
   "outputs": [
    {
     "data": {
      "text/html": [
       "<div>\n",
       "<style scoped>\n",
       "    .dataframe tbody tr th:only-of-type {\n",
       "        vertical-align: middle;\n",
       "    }\n",
       "\n",
       "    .dataframe tbody tr th {\n",
       "        vertical-align: top;\n",
       "    }\n",
       "\n",
       "    .dataframe thead th {\n",
       "        text-align: right;\n",
       "    }\n",
       "</style>\n",
       "<table border=\"1\" class=\"dataframe\">\n",
       "  <thead>\n",
       "    <tr style=\"text-align: right;\">\n",
       "      <th></th>\n",
       "      <th>Unnamed: 0</th>\n",
       "      <th>path</th>\n",
       "      <th>labels</th>\n",
       "      <th>class</th>\n",
       "    </tr>\n",
       "  </thead>\n",
       "  <tbody>\n",
       "    <tr>\n",
       "      <th>0</th>\n",
       "      <td>0</td>\n",
       "      <td>./combined/ID_00042829c.jpg</td>\n",
       "      <td>[1, 0, 0, 1, 0, 0]</td>\n",
       "      <td>1</td>\n",
       "    </tr>\n",
       "    <tr>\n",
       "      <th>1</th>\n",
       "      <td>1</td>\n",
       "      <td>./combined/ID_0009db386.jpg</td>\n",
       "      <td>[1, 0, 0, 1, 0, 0]</td>\n",
       "      <td>1</td>\n",
       "    </tr>\n",
       "    <tr>\n",
       "      <th>2</th>\n",
       "      <td>2</td>\n",
       "      <td>./combined/ID_001753ad0.jpg</td>\n",
       "      <td>[1, 0, 0, 1, 0, 0]</td>\n",
       "      <td>1</td>\n",
       "    </tr>\n",
       "    <tr>\n",
       "      <th>3</th>\n",
       "      <td>3</td>\n",
       "      <td>./combined/ID_001753ad0.jpg</td>\n",
       "      <td>[1, 0, 0, 1, 0, 0]</td>\n",
       "      <td>1</td>\n",
       "    </tr>\n",
       "    <tr>\n",
       "      <th>4</th>\n",
       "      <td>4</td>\n",
       "      <td>./combined/ID_0018428e1.jpg</td>\n",
       "      <td>[1, 0, 0, 1, 0, 0]</td>\n",
       "      <td>1</td>\n",
       "    </tr>\n",
       "    <tr>\n",
       "      <th>...</th>\n",
       "      <td>...</td>\n",
       "      <td>...</td>\n",
       "      <td>...</td>\n",
       "      <td>...</td>\n",
       "    </tr>\n",
       "    <tr>\n",
       "      <th>11382</th>\n",
       "      <td>11382</td>\n",
       "      <td>./combined/ID_026fb8b79.jpg</td>\n",
       "      <td>[0, 0, 0, 0, 0, 0]</td>\n",
       "      <td>0</td>\n",
       "    </tr>\n",
       "    <tr>\n",
       "      <th>11383</th>\n",
       "      <td>11383</td>\n",
       "      <td>./combined/ID_026ffdb3e.jpg</td>\n",
       "      <td>[0, 0, 0, 0, 0, 0]</td>\n",
       "      <td>0</td>\n",
       "    </tr>\n",
       "    <tr>\n",
       "      <th>11384</th>\n",
       "      <td>11384</td>\n",
       "      <td>./combined/ID_027032919.jpg</td>\n",
       "      <td>[0, 0, 0, 0, 0, 0]</td>\n",
       "      <td>0</td>\n",
       "    </tr>\n",
       "    <tr>\n",
       "      <th>11385</th>\n",
       "      <td>11385</td>\n",
       "      <td>./combined/ID_02703705b.jpg</td>\n",
       "      <td>[0, 0, 0, 0, 0, 0]</td>\n",
       "      <td>0</td>\n",
       "    </tr>\n",
       "    <tr>\n",
       "      <th>11386</th>\n",
       "      <td>11386</td>\n",
       "      <td>./combined/ID_0270adda1.jpg</td>\n",
       "      <td>[0, 0, 0, 0, 0, 0]</td>\n",
       "      <td>0</td>\n",
       "    </tr>\n",
       "  </tbody>\n",
       "</table>\n",
       "<p>11387 rows × 4 columns</p>\n",
       "</div>"
      ],
      "text/plain": [
       "       Unnamed: 0                         path              labels  class\n",
       "0               0  ./combined/ID_00042829c.jpg  [1, 0, 0, 1, 0, 0]      1\n",
       "1               1  ./combined/ID_0009db386.jpg  [1, 0, 0, 1, 0, 0]      1\n",
       "2               2  ./combined/ID_001753ad0.jpg  [1, 0, 0, 1, 0, 0]      1\n",
       "3               3  ./combined/ID_001753ad0.jpg  [1, 0, 0, 1, 0, 0]      1\n",
       "4               4  ./combined/ID_0018428e1.jpg  [1, 0, 0, 1, 0, 0]      1\n",
       "...           ...                          ...                 ...    ...\n",
       "11382       11382  ./combined/ID_026fb8b79.jpg  [0, 0, 0, 0, 0, 0]      0\n",
       "11383       11383  ./combined/ID_026ffdb3e.jpg  [0, 0, 0, 0, 0, 0]      0\n",
       "11384       11384  ./combined/ID_027032919.jpg  [0, 0, 0, 0, 0, 0]      0\n",
       "11385       11385  ./combined/ID_02703705b.jpg  [0, 0, 0, 0, 0, 0]      0\n",
       "11386       11386  ./combined/ID_0270adda1.jpg  [0, 0, 0, 0, 0, 0]      0\n",
       "\n",
       "[11387 rows x 4 columns]"
      ]
     },
     "execution_count": 2,
     "metadata": {},
     "output_type": "execute_result"
    }
   ],
   "source": [
    "# import dataset\n",
    "hem_type = [\"Intraventricular\",\"Epidural\", \"Subdural\", \"Subarachnoid\", \"Intraparenchymal\", \"Multi\"]\n",
    "cl = pd.read_csv(\"ClassificationData.csv\")\n",
    "hem_data = {}\n",
    "for i in range(len(hem_type)):\n",
    "    hem_data[i + 1] = pd.read_csv(hem_type[i] + \"_segLabel.csv\")\n",
    "cl"
   ]
  },
  {
   "cell_type": "code",
   "execution_count": 21,
   "id": "292b7761",
   "metadata": {},
   "outputs": [
    {
     "name": "stdout",
     "output_type": "stream",
     "text": [
      "2.0\n",
      "1.0\n"
     ]
    },
    {
     "data": {
      "image/png": "[encoded data removed]",
      "text/plain": [
       "<Figure size 640x480 with 1 Axes>"
      ]
     },
     "metadata": {},
     "output_type": "display_data"
    }
   ],
   "source": [
    "# #2853\n",
    "# row = cl.loc[2854]\n",
    "# file = row['path'].split('/')[2]\n",
    "# label = row['class']\n",
    "# df = hem_data[label]\n",
    "# df = df[df['Origin'] == file]\n",
    "# seg = df['Correct Label'].values[0]\n",
    "# # If Correct Label is nan, then use Majority Label\n",
    "# if pd.isnull(seg):\n",
    "#     seg = df['Majority Label'].values[0]\n",
    "# seg = seg.replace('\\'', '\\\"')\n",
    "\n",
    "# seg = pd.DataFrame(json.loads(seg)[-1]).apply(lambda x: x * size)\n",
    "# test = np.array(seg).astype('int32')\n",
    "# mask = np.zeros((size, size))\n",
    "# mask.fill(3)\n",
    "# cv2.fillPoly(mask, [test], color=(1))\n",
    "# cv2.polylines(mask, [test], False, color=(2))\n",
    "# plt.imshow(mask)\n",
    "# x = seg['x'].values[0]\n",
    "# y = seg['y'].values[0]\n",
    "# print(mask[int(y), int(x)])\n",
    "# print(mask[300, 410])"
   ]
  },
  {
   "cell_type": "code",
   "execution_count": 3,
   "id": "40a8ae59",
   "metadata": {
    "code_folding": []
   },
   "outputs": [
    {
     "name": "stdout",
     "output_type": "stream",
     "text": [
      "Finished  0\n",
      "Finished  1000\n",
      "Finished  2000\n",
      "Finished  3000\n",
      "Finished  4000\n",
      "Finished  5000\n",
      "Finished  6000\n",
      "Finished  7000\n",
      "Finished  8000\n",
      "Finished  9000\n",
      "Finished  10000\n",
      "Finished  11000\n",
      "19.552056312561035\n"
     ]
    }
   ],
   "source": [
    "folder = \"./Masks/\"\n",
    "size = 512\n",
    "start = time.time()\n",
    "for i in range(len(cl)):\n",
    "    row = cl.loc[i]\n",
    "    \n",
    "    mask = np.zeros((size,size))\n",
    "#     mask.fill(3)\n",
    "    \n",
    "    file = row['path'].split('/')[2]\n",
    "    label = row['class']\n",
    "    \n",
    "    if label != 0:\n",
    "        try:\n",
    "            df = hem_data[label]\n",
    "            df = df[df['Origin'] == file]\n",
    "\n",
    "            # Add segmentation label\n",
    "            seg = df['Correct Label'].values[0]\n",
    "            # If Correct Label is nan, then use Majority Label\n",
    "            if pd.isnull(seg):\n",
    "                seg = df['Majority Label'].values[0]\n",
    "                \n",
    "            seg = seg.replace('\\'', '\\\"')\n",
    "            js = json.loads(seg)\n",
    "            \n",
    "            if len(js) <= 2:\n",
    "                seg = js[-1]\n",
    "            else:\n",
    "                seg = js\n",
    "            \n",
    "            seg = pd.DataFrame(seg).apply(lambda x: x * size)\n",
    "\n",
    "            if len(seg) > 0:\n",
    "                img = np.array(seg).astype('int32')\n",
    "                cv2.fillPoly(mask, [img], color=(255))\n",
    "#                 cv2.polylines(mask, [img], False, color=(2))\n",
    "        except:\n",
    "            print(i)\n",
    "            break\n",
    "\n",
    "        \n",
    "            \n",
    "    name = folder + file.split('.')[0] + '.png'\n",
    "    cv2.imwrite(name, mask)\n",
    "    if i % 1000 == 0:\n",
    "        print(\"Finished \", i)\n",
    "    \n",
    "    \n",
    "end = time.time()\n",
    "print(end - start)  \n",
    "    "
   ]
  },
  {
   "cell_type": "code",
   "execution_count": 72,
   "id": "efbf5d37",
   "metadata": {},
   "outputs": [
    {
     "name": "stdout",
     "output_type": "stream",
     "text": [
      "55.638606548309326\n"
     ]
    }
   ],
   "source": [
    "start = time.time()\n",
    "for i in range(len(df)):\n",
    "    row = df.loc[i]\n",
    "\n",
    "        \n",
    "    path1 = row['path1']\n",
    "    path2 = row['path2']\n",
    "    path3 = row['path3']\n",
    "    path4 = row['path4']\n",
    "    file = row['file']\n",
    "    img1 = openImg(path1)\n",
    "    img2 = openImg(path2)\n",
    "    img3 = openImg(path3)\n",
    "    img4 = openImg(path4)\n",
    "\n",
    "    img = img1 * .25 + img2 * .25 + img3 * .25 + img4 * .25\n",
    "            \n",
    "    name = \"./combined/\" + row['file']\n",
    "\n",
    "\n",
    "    im = Image.fromarray(img.astype('uint8')).convert('RGB')\n",
    "    im.save(name)\n",
    "    \n",
    "    \n",
    "end = time.time()\n",
    "print(end - start) "
   ]
  },
  {
   "cell_type": "code",
   "execution_count": 4,
   "id": "de26d7c3",
   "metadata": {
    "scrolled": false
   },
   "outputs": [
    {
     "ename": "KeyError",
     "evalue": "'Seg_Label'",
     "output_type": "error",
     "traceback": [
      "\u001b[1;31m---------------------------------------------------------------------------\u001b[0m",
      "\u001b[1;31mKeyError\u001b[0m                                  Traceback (most recent call last)",
      "\u001b[1;32m~\\anaconda3\\lib\\site-packages\\pandas\\core\\indexes\\base.py\u001b[0m in \u001b[0;36mget_loc\u001b[1;34m(self, key, method, tolerance)\u001b[0m\n\u001b[0;32m   3628\u001b[0m             \u001b[1;32mtry\u001b[0m\u001b[1;33m:\u001b[0m\u001b[1;33m\u001b[0m\u001b[1;33m\u001b[0m\u001b[0m\n\u001b[1;32m-> 3629\u001b[1;33m                 \u001b[1;32mreturn\u001b[0m \u001b[0mself\u001b[0m\u001b[1;33m.\u001b[0m\u001b[0m_engine\u001b[0m\u001b[1;33m.\u001b[0m\u001b[0mget_loc\u001b[0m\u001b[1;33m(\u001b[0m\u001b[0mcasted_key\u001b[0m\u001b[1;33m)\u001b[0m\u001b[1;33m\u001b[0m\u001b[1;33m\u001b[0m\u001b[0m\n\u001b[0m\u001b[0;32m   3630\u001b[0m             \u001b[1;32mexcept\u001b[0m \u001b[0mKeyError\u001b[0m \u001b[1;32mas\u001b[0m \u001b[0merr\u001b[0m\u001b[1;33m:\u001b[0m\u001b[1;33m\u001b[0m\u001b[1;33m\u001b[0m\u001b[0m\n",
      "\u001b[1;32m~\\anaconda3\\lib\\site-packages\\pandas\\_libs\\index.pyx\u001b[0m in \u001b[0;36mpandas._libs.index.IndexEngine.get_loc\u001b[1;34m()\u001b[0m\n",
      "\u001b[1;32m~\\anaconda3\\lib\\site-packages\\pandas\\_libs\\index.pyx\u001b[0m in \u001b[0;36mpandas._libs.index.IndexEngine.get_loc\u001b[1;34m()\u001b[0m\n",
      "\u001b[1;32mpandas\\_libs\\hashtable_class_helper.pxi\u001b[0m in \u001b[0;36mpandas._libs.hashtable.PyObjectHashTable.get_item\u001b[1;34m()\u001b[0m\n",
      "\u001b[1;32mpandas\\_libs\\hashtable_class_helper.pxi\u001b[0m in \u001b[0;36mpandas._libs.hashtable.PyObjectHashTable.get_item\u001b[1;34m()\u001b[0m\n",
      "\u001b[1;31mKeyError\u001b[0m: 'Seg_Label'",
      "\nThe above exception was the direct cause of the following exception:\n",
      "\u001b[1;31mKeyError\u001b[0m                                  Traceback (most recent call last)",
      "\u001b[1;32m~\\AppData\\Local\\Temp\\ipykernel_19712\\2954627622.py\u001b[0m in \u001b[0;36m<module>\u001b[1;34m\u001b[0m\n\u001b[0;32m      1\u001b[0m \u001b[0mrow\u001b[0m \u001b[1;33m=\u001b[0m \u001b[0mcl\u001b[0m\u001b[1;33m.\u001b[0m\u001b[0mloc\u001b[0m\u001b[1;33m[\u001b[0m\u001b[1;36m0\u001b[0m\u001b[1;33m]\u001b[0m\u001b[1;33m\u001b[0m\u001b[1;33m\u001b[0m\u001b[0m\n\u001b[1;32m----> 2\u001b[1;33m \u001b[0mseg\u001b[0m \u001b[1;33m=\u001b[0m \u001b[0mpd\u001b[0m\u001b[1;33m.\u001b[0m\u001b[0mDataFrame\u001b[0m\u001b[1;33m(\u001b[0m\u001b[0mjson\u001b[0m\u001b[1;33m.\u001b[0m\u001b[0mloads\u001b[0m\u001b[1;33m(\u001b[0m\u001b[0mrow\u001b[0m\u001b[1;33m[\u001b[0m\u001b[1;34m'Seg_Label'\u001b[0m\u001b[1;33m]\u001b[0m\u001b[1;33m)\u001b[0m\u001b[1;33m)\u001b[0m\u001b[1;33m.\u001b[0m\u001b[0mapply\u001b[0m\u001b[1;33m(\u001b[0m\u001b[1;32mlambda\u001b[0m \u001b[0mx\u001b[0m\u001b[1;33m:\u001b[0m \u001b[0mx\u001b[0m \u001b[1;33m*\u001b[0m \u001b[0msize\u001b[0m\u001b[1;33m)\u001b[0m\u001b[1;33m\u001b[0m\u001b[1;33m\u001b[0m\u001b[0m\n\u001b[0m\u001b[0;32m      3\u001b[0m \u001b[1;33m\u001b[0m\u001b[0m\n\u001b[0;32m      4\u001b[0m \u001b[1;31m# mask = np.zeros((size,size))\u001b[0m\u001b[1;33m\u001b[0m\u001b[1;33m\u001b[0m\u001b[0m\n\u001b[0;32m      5\u001b[0m \u001b[1;31m# x = list(seg['x'])\u001b[0m\u001b[1;33m\u001b[0m\u001b[1;33m\u001b[0m\u001b[0m\n",
      "\u001b[1;32m~\\anaconda3\\lib\\site-packages\\pandas\\core\\series.py\u001b[0m in \u001b[0;36m__getitem__\u001b[1;34m(self, key)\u001b[0m\n\u001b[0;32m    956\u001b[0m \u001b[1;33m\u001b[0m\u001b[0m\n\u001b[0;32m    957\u001b[0m         \u001b[1;32melif\u001b[0m \u001b[0mkey_is_scalar\u001b[0m\u001b[1;33m:\u001b[0m\u001b[1;33m\u001b[0m\u001b[1;33m\u001b[0m\u001b[0m\n\u001b[1;32m--> 958\u001b[1;33m             \u001b[1;32mreturn\u001b[0m \u001b[0mself\u001b[0m\u001b[1;33m.\u001b[0m\u001b[0m_get_value\u001b[0m\u001b[1;33m(\u001b[0m\u001b[0mkey\u001b[0m\u001b[1;33m)\u001b[0m\u001b[1;33m\u001b[0m\u001b[1;33m\u001b[0m\u001b[0m\n\u001b[0m\u001b[0;32m    959\u001b[0m \u001b[1;33m\u001b[0m\u001b[0m\n\u001b[0;32m    960\u001b[0m         \u001b[1;32mif\u001b[0m \u001b[0mis_hashable\u001b[0m\u001b[1;33m(\u001b[0m\u001b[0mkey\u001b[0m\u001b[1;33m)\u001b[0m\u001b[1;33m:\u001b[0m\u001b[1;33m\u001b[0m\u001b[1;33m\u001b[0m\u001b[0m\n",
      "\u001b[1;32m~\\anaconda3\\lib\\site-packages\\pandas\\core\\series.py\u001b[0m in \u001b[0;36m_get_value\u001b[1;34m(self, label, takeable)\u001b[0m\n\u001b[0;32m   1067\u001b[0m \u001b[1;33m\u001b[0m\u001b[0m\n\u001b[0;32m   1068\u001b[0m         \u001b[1;31m# Similar to Index.get_value, but we do not fall back to positional\u001b[0m\u001b[1;33m\u001b[0m\u001b[1;33m\u001b[0m\u001b[0m\n\u001b[1;32m-> 1069\u001b[1;33m         \u001b[0mloc\u001b[0m \u001b[1;33m=\u001b[0m \u001b[0mself\u001b[0m\u001b[1;33m.\u001b[0m\u001b[0mindex\u001b[0m\u001b[1;33m.\u001b[0m\u001b[0mget_loc\u001b[0m\u001b[1;33m(\u001b[0m\u001b[0mlabel\u001b[0m\u001b[1;33m)\u001b[0m\u001b[1;33m\u001b[0m\u001b[1;33m\u001b[0m\u001b[0m\n\u001b[0m\u001b[0;32m   1070\u001b[0m         \u001b[1;32mreturn\u001b[0m \u001b[0mself\u001b[0m\u001b[1;33m.\u001b[0m\u001b[0mindex\u001b[0m\u001b[1;33m.\u001b[0m\u001b[0m_get_values_for_loc\u001b[0m\u001b[1;33m(\u001b[0m\u001b[0mself\u001b[0m\u001b[1;33m,\u001b[0m \u001b[0mloc\u001b[0m\u001b[1;33m,\u001b[0m \u001b[0mlabel\u001b[0m\u001b[1;33m)\u001b[0m\u001b[1;33m\u001b[0m\u001b[1;33m\u001b[0m\u001b[0m\n\u001b[0;32m   1071\u001b[0m \u001b[1;33m\u001b[0m\u001b[0m\n",
      "\u001b[1;32m~\\anaconda3\\lib\\site-packages\\pandas\\core\\indexes\\base.py\u001b[0m in \u001b[0;36mget_loc\u001b[1;34m(self, key, method, tolerance)\u001b[0m\n\u001b[0;32m   3629\u001b[0m                 \u001b[1;32mreturn\u001b[0m \u001b[0mself\u001b[0m\u001b[1;33m.\u001b[0m\u001b[0m_engine\u001b[0m\u001b[1;33m.\u001b[0m\u001b[0mget_loc\u001b[0m\u001b[1;33m(\u001b[0m\u001b[0mcasted_key\u001b[0m\u001b[1;33m)\u001b[0m\u001b[1;33m\u001b[0m\u001b[1;33m\u001b[0m\u001b[0m\n\u001b[0;32m   3630\u001b[0m             \u001b[1;32mexcept\u001b[0m \u001b[0mKeyError\u001b[0m \u001b[1;32mas\u001b[0m \u001b[0merr\u001b[0m\u001b[1;33m:\u001b[0m\u001b[1;33m\u001b[0m\u001b[1;33m\u001b[0m\u001b[0m\n\u001b[1;32m-> 3631\u001b[1;33m                 \u001b[1;32mraise\u001b[0m \u001b[0mKeyError\u001b[0m\u001b[1;33m(\u001b[0m\u001b[0mkey\u001b[0m\u001b[1;33m)\u001b[0m \u001b[1;32mfrom\u001b[0m \u001b[0merr\u001b[0m\u001b[1;33m\u001b[0m\u001b[1;33m\u001b[0m\u001b[0m\n\u001b[0m\u001b[0;32m   3632\u001b[0m             \u001b[1;32mexcept\u001b[0m \u001b[0mTypeError\u001b[0m\u001b[1;33m:\u001b[0m\u001b[1;33m\u001b[0m\u001b[1;33m\u001b[0m\u001b[0m\n\u001b[0;32m   3633\u001b[0m                 \u001b[1;31m# If we have a listlike key, _check_indexing_error will raise\u001b[0m\u001b[1;33m\u001b[0m\u001b[1;33m\u001b[0m\u001b[0m\n",
      "\u001b[1;31mKeyError\u001b[0m: 'Seg_Label'"
     ]
    }
   ],
   "source": [
    "\n",
    "row = cl.loc[0]\n",
    "seg = pd.DataFrame(json.loads(row['Seg_Label'])).apply(lambda x: x * size)\n",
    "\n",
    "# mask = np.zeros((size,size))\n",
    "# x = list(seg['x'])\n",
    "# y = list(seg['y'])\n",
    "# for a,b in zip(x,y):\n",
    "#     mask[int(b)][int(a)] = 1\n",
    "# for r in range (512):\n",
    "#     arr = np.nonzero(mask[r])[0]\n",
    "#     if len(arr) == 0:\n",
    "#         continue\n",
    "#     try:\n",
    "#         first, last = arr[[0, -1]]\n",
    "#     except:\n",
    "#         print(r)\n",
    "#         break\n",
    "    \n",
    "#     for x in range(512):\n",
    "#         if x > first and x < last:\n",
    "#             mask[r][x] = 1\n",
    "            \n",
    "        \n",
    "            \n",
    "# for c in range (512):\n",
    "#     arr = np.nonzero(mask[:,c])[0]\n",
    "#     if len(arr) == 0:\n",
    "#         continue\n",
    "#     try:\n",
    "#         first, last = arr[[0, -1]]\n",
    "#     except:\n",
    "#         print(r)\n",
    "#         break\n",
    "    \n",
    "#     for r in range(first, last+1):\n",
    "#         mask[r][c] = 1\n",
    "        \n",
    "\n",
    "test = np.array(seg).astype('int32')\n",
    "print(test)\n",
    "mask = np.zeros((size, size))\n",
    "cv2.fillPoly(mask, test, color=(255))\n",
    "cv2.imwrite(\"mask.png\", mask)\n",
    "\n",
    "plt.imshow(mask)\n",
    "#plt.imshow(np.array(Image.open(\"./combined/ID_00a1fbd7c.jpg\")))\n",
    "plt.show()\n",
    "\n",
    "plt.show()\n",
    "        \n",
    "# im = Image.fromarray(mask).convert('L')\n",
    "# im.save(\"test.png\")\n",
    "\n",
    "# test = np.array(Image.open(\"test.png\"))\n",
    "# plt.imshow(test)\n",
    "# plt.show()\n",
    "      "
   ]
  },
  {
   "cell_type": "code",
   "execution_count": 18,
   "id": "cbcab0a0",
   "metadata": {},
   "outputs": [
    {
     "data": {
      "image/png": "[encoded data removed]",
      "text/plain": [
       "<Figure size 640x480 with 1 Axes>"
      ]
     },
     "metadata": {},
     "output_type": "display_data"
    },
    {
     "name": "stdout",
     "output_type": "stream",
     "text": [
      "                  file        Label Seg_Label  \\\n",
      "1396  ID_00a1fbd7c.jpg  [0 0 0 0 0]        []   \n",
      "\n",
      "                                                  path1  \\\n",
      "1396  ./Project/XN_Project/renders/normal/normal/bra...   \n",
      "\n",
      "                                                  path2  \\\n",
      "1396  ./Project/XN_Project/renders/normal/normal/bra...   \n",
      "\n",
      "                                                  path3  \\\n",
      "1396  ./Project/XN_Project/renders/normal/normal/max...   \n",
      "\n",
      "                                                  path4  \n",
      "1396  ./Project/XN_Project/renders/normal/normal/sub...  \n"
     ]
    }
   ],
   "source": [
    "test = np.array(Image.open(\"./masks/ID_00a1fbd7c.png\"))\n",
    "plt.imshow(test)\n",
    "plt.show()\n",
    "print(df[df['file'] == \"ID_00a1fbd7c.jpg\"])"
   ]
  },
  {
   "cell_type": "code",
   "execution_count": 22,
   "id": "ed4cb9dd",
   "metadata": {},
   "outputs": [
    {
     "data": {
      "text/plain": [
       "<matplotlib.image.AxesImage at 0x28926fc7670>"
      ]
     },
     "execution_count": 22,
     "metadata": {},
     "output_type": "execute_result"
    },
    {
     "data": {
      "image/png": "[encoded data removed]",
      "text/plain": [
       "<Figure size 640x480 with 1 Axes>"
      ]
     },
     "metadata": {},
     "output_type": "display_data"
    }
   ],
   "source": [
    "im = Image.open(\"./masks/ID_0c00cda03.jpg\")\n",
    "test = np.array(im)\n",
    "plt.imshow(test)"
   ]
  },
  {
   "cell_type": "code",
   "execution_count": null,
   "id": "d76a5f34",
   "metadata": {},
   "outputs": [],
   "source": []
  }
 ],
 "metadata": {
  "kernelspec": {
   "display_name": "Python 3 (ipykernel)",
   "language": "python",
   "name": "python3"
  },
  "language_info": {
   "codemirror_mode": {
    "name": "ipython",
    "version": 3
   },
   "file_extension": ".py",
   "mimetype": "text/x-python",
   "name": "python",
   "nbconvert_exporter": "python",
   "pygments_lexer": "ipython3",
   "version": "3.9.13"
  }
 },
 "nbformat": 4,
 "nbformat_minor": 5
}
