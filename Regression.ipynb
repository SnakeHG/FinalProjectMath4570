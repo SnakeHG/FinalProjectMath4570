{
 "cells": [
  {
   "cell_type": "code",
   "execution_count": 1,
   "id": "25f51a06",
   "metadata": {},
   "outputs": [],
   "source": [
    "import numpy as np\n",
    "import pandas as pd\n",
    "from PIL import Image\n",
    "import os\n",
    "import time\n",
    "import ast\n",
    "import matplotlib.pyplot as plt\n",
    "import cv2"
   ]
  },
  {
   "cell_type": "code",
   "execution_count": 2,
   "id": "effc3c83",
   "metadata": {},
   "outputs": [
    {
     "data": {
      "text/html": [
       "<div>\n",
       "<style scoped>\n",
       "    .dataframe tbody tr th:only-of-type {\n",
       "        vertical-align: middle;\n",
       "    }\n",
       "\n",
       "    .dataframe tbody tr th {\n",
       "        vertical-align: top;\n",
       "    }\n",
       "\n",
       "    .dataframe thead th {\n",
       "        text-align: right;\n",
       "    }\n",
       "</style>\n",
       "<table border=\"1\" class=\"dataframe\">\n",
       "  <thead>\n",
       "    <tr style=\"text-align: right;\">\n",
       "      <th></th>\n",
       "      <th>path</th>\n",
       "      <th>labels</th>\n",
       "      <th>class</th>\n",
       "    </tr>\n",
       "  </thead>\n",
       "  <tbody>\n",
       "    <tr>\n",
       "      <th>0</th>\n",
       "      <td>./Project/XN_Project/renders/intraventricular/...</td>\n",
       "      <td>[1, 0, 0, 1, 0, 0]</td>\n",
       "      <td>1</td>\n",
       "    </tr>\n",
       "    <tr>\n",
       "      <th>1</th>\n",
       "      <td>./Project/XN_Project/renders/intraventricular/...</td>\n",
       "      <td>[1, 0, 0, 1, 0, 0]</td>\n",
       "      <td>1</td>\n",
       "    </tr>\n",
       "    <tr>\n",
       "      <th>2</th>\n",
       "      <td>./Project/XN_Project/renders/intraventricular/...</td>\n",
       "      <td>[1, 0, 0, 1, 0, 0]</td>\n",
       "      <td>1</td>\n",
       "    </tr>\n",
       "    <tr>\n",
       "      <th>3</th>\n",
       "      <td>./Project/XN_Project/renders/intraventricular/...</td>\n",
       "      <td>[1, 0, 0, 1, 0, 0]</td>\n",
       "      <td>1</td>\n",
       "    </tr>\n",
       "    <tr>\n",
       "      <th>4</th>\n",
       "      <td>./Project/XN_Project/renders/intraventricular/...</td>\n",
       "      <td>[1, 0, 0, 1, 0, 0]</td>\n",
       "      <td>1</td>\n",
       "    </tr>\n",
       "    <tr>\n",
       "      <th>...</th>\n",
       "      <td>...</td>\n",
       "      <td>...</td>\n",
       "      <td>...</td>\n",
       "    </tr>\n",
       "    <tr>\n",
       "      <th>11382</th>\n",
       "      <td>./Project/XN_Project/renders/normal/normal/bra...</td>\n",
       "      <td>[0, 0, 0, 0, 0, 0]</td>\n",
       "      <td>0</td>\n",
       "    </tr>\n",
       "    <tr>\n",
       "      <th>11383</th>\n",
       "      <td>./Project/XN_Project/renders/normal/normal/max...</td>\n",
       "      <td>[0, 0, 0, 0, 0, 0]</td>\n",
       "      <td>0</td>\n",
       "    </tr>\n",
       "    <tr>\n",
       "      <th>11384</th>\n",
       "      <td>./Project/XN_Project/renders/normal/normal/bra...</td>\n",
       "      <td>[0, 0, 0, 0, 0, 0]</td>\n",
       "      <td>0</td>\n",
       "    </tr>\n",
       "    <tr>\n",
       "      <th>11385</th>\n",
       "      <td>./Project/XN_Project/renders/normal/normal/bra...</td>\n",
       "      <td>[0, 0, 0, 0, 0, 0]</td>\n",
       "      <td>0</td>\n",
       "    </tr>\n",
       "    <tr>\n",
       "      <th>11386</th>\n",
       "      <td>./Project/XN_Project/renders/normal/normal/max...</td>\n",
       "      <td>[0, 0, 0, 0, 0, 0]</td>\n",
       "      <td>0</td>\n",
       "    </tr>\n",
       "  </tbody>\n",
       "</table>\n",
       "<p>11387 rows × 3 columns</p>\n",
       "</div>"
      ],
      "text/plain": [
       "                                                    path              labels  \\\n",
       "0      ./Project/XN_Project/renders/intraventricular/...  [1, 0, 0, 1, 0, 0]   \n",
       "1      ./Project/XN_Project/renders/intraventricular/...  [1, 0, 0, 1, 0, 0]   \n",
       "2      ./Project/XN_Project/renders/intraventricular/...  [1, 0, 0, 1, 0, 0]   \n",
       "3      ./Project/XN_Project/renders/intraventricular/...  [1, 0, 0, 1, 0, 0]   \n",
       "4      ./Project/XN_Project/renders/intraventricular/...  [1, 0, 0, 1, 0, 0]   \n",
       "...                                                  ...                 ...   \n",
       "11382  ./Project/XN_Project/renders/normal/normal/bra...  [0, 0, 0, 0, 0, 0]   \n",
       "11383  ./Project/XN_Project/renders/normal/normal/max...  [0, 0, 0, 0, 0, 0]   \n",
       "11384  ./Project/XN_Project/renders/normal/normal/bra...  [0, 0, 0, 0, 0, 0]   \n",
       "11385  ./Project/XN_Project/renders/normal/normal/bra...  [0, 0, 0, 0, 0, 0]   \n",
       "11386  ./Project/XN_Project/renders/normal/normal/max...  [0, 0, 0, 0, 0, 0]   \n",
       "\n",
       "       class  \n",
       "0          1  \n",
       "1          1  \n",
       "2          1  \n",
       "3          1  \n",
       "4          1  \n",
       "...      ...  \n",
       "11382      0  \n",
       "11383      0  \n",
       "11384      0  \n",
       "11385      0  \n",
       "11386      0  \n",
       "\n",
       "[11387 rows x 3 columns]"
      ]
     },
     "execution_count": 2,
     "metadata": {},
     "output_type": "execute_result"
    }
   ],
   "source": [
    "\n",
    "size = 128\n",
    "num_labels = 7\n",
    "\n",
    "df = pd.read_csv(\"ClassificationData2.csv\")[[\"path\", \"labels\", 'class']]\n",
    "df"
   ]
  },
  {
   "cell_type": "code",
   "execution_count": 3,
   "id": "c03bf957",
   "metadata": {},
   "outputs": [
    {
     "name": "stdout",
     "output_type": "stream",
     "text": [
      "(11387,)\n"
     ]
    }
   ],
   "source": [
    "images = np.array(df['path'])\n",
    "print(images.shape)"
   ]
  },
  {
   "cell_type": "code",
   "execution_count": 4,
   "id": "d315a28b",
   "metadata": {},
   "outputs": [
    {
     "data": {
      "text/plain": [
       "(11387,)"
      ]
     },
     "execution_count": 4,
     "metadata": {},
     "output_type": "execute_result"
    }
   ],
   "source": [
    "# Select random datapoints\n",
    "image_paths = np.random.choice(images, size=11387, replace=False)\n",
    "image_paths.shape"
   ]
  },
  {
   "cell_type": "code",
   "execution_count": 5,
   "id": "aa565e9c",
   "metadata": {},
   "outputs": [
    {
     "name": "stdout",
     "output_type": "stream",
     "text": [
      "82.07313227653503\n",
      "(11387, 128, 128) (11387,)\n"
     ]
    }
   ],
   "source": [
    "data = []\n",
    "labels = []\n",
    "start = time.time()\n",
    "for path in image_paths:  \n",
    "    img = cv2.imread(path, cv2.IMREAD_GRAYSCALE) \n",
    "    img = cv2.resize(img, (size, size))\n",
    "#     img = np.array(img)\n",
    "    if(img.shape == (size,size)):\n",
    "        data.append(np.array(img))\n",
    "\n",
    "        s = df[df['path'] == path]['class'].iat[0]\n",
    "        labels.append(s)\n",
    "\n",
    "end = time.time()\n",
    "print(end - start)\n",
    "data, labels = np.array(data), np.array(labels)\n",
    "print(data.shape, labels.shape)"
   ]
  },
  {
   "cell_type": "code",
   "execution_count": 6,
   "id": "c1f6fb5a",
   "metadata": {
    "code_folding": []
   },
   "outputs": [
    {
     "name": "stdout",
     "output_type": "stream",
     "text": [
      "80:10:10 split for train/test/CV\n",
      "X_train: (9109, 128, 128)\n",
      "X_test: (2278, 128, 128)\n",
      "y_train: (9109,)\n",
      "y_test: (2278,)\n"
     ]
    }
   ],
   "source": [
    "from sklearn.model_selection import train_test_split \n",
    "#Split into train and test\n",
    "X_train, X_test, y_train, y_test = train_test_split(data,labels, \n",
    "                                   random_state=104,  \n",
    "                                   test_size=0.2,  \n",
    "                                   shuffle=True) \n",
    "\n",
    "# X_test, X_CV, y_test, y_CV = train_test_split(X_test,y_test, \n",
    "#                                    random_state=104,  \n",
    "#                                    test_size=0.5,  \n",
    "#                                    shuffle=True) \n",
    "\n",
    "\n",
    "# ## Normalize training data to be between 0 and 1, we have to typecast it as a float to do so.\n",
    "# X_train = X_train.astype('float32')\n",
    "# X_test = X_test.astype('float32')\n",
    "# X_CV = X_CV.astype('float32')\n",
    "# X_train /= 255.\n",
    "# X_test /= 255.\n",
    "# X_CV /= 255\n",
    "\n",
    "# # Reshape data\n",
    "# X_train = X_train.reshape(-1,size,size, 3)\n",
    "# X_test = X_test.reshape(-1,size,size, 3)\n",
    "# X_CV = X_CV.reshape(-1,size,size, 3)\n",
    "\n",
    "print(\"80:10:10 split for train/test/CV\")\n",
    "print('X_train:', X_train.shape)\n",
    "print('X_test:', X_test.shape)\n",
    "# print('X_CV:', X_CV.shape)\n",
    "print('y_train:', y_train.shape)\n",
    "print('y_test:', y_test.shape)\n",
    "# print('y_CV:', y_CV.shape)"
   ]
  },
  {
   "cell_type": "code",
   "execution_count": 7,
   "id": "0768fdc4",
   "metadata": {},
   "outputs": [
    {
     "name": "stdout",
     "output_type": "stream",
     "text": [
      "[Pipeline] .... (step 1 of 2) Processing standardscaler, total=   4.2s\n",
      "[Pipeline]  (step 2 of 2) Processing logisticregression, total=17.4min\n"
     ]
    },
    {
     "data": {
      "text/plain": [
       "0.5158033362598771"
      ]
     },
     "execution_count": 7,
     "metadata": {},
     "output_type": "execute_result"
    }
   ],
   "source": [
    "from sklearn.linear_model import LogisticRegression\n",
    "from sklearn.preprocessing import StandardScaler\n",
    "from sklearn.pipeline import make_pipeline\n",
    "\n",
    "pipe = make_pipeline(StandardScaler(), LogisticRegression(solver = 'liblinear', penalty = 'l1', max_iter=12000), verbose=True)\n",
    "pipe.fit(X_train.reshape((-1, size*size)), y_train)\n",
    "pipe.score(X_test.reshape((-1, size*size)), y_test)"
   ]
  },
  {
   "cell_type": "code",
   "execution_count": 8,
   "id": "5c6d9060",
   "metadata": {},
   "outputs": [],
   "source": [
    "from sklearn.metrics import confusion_matrix"
   ]
  },
  {
   "cell_type": "code",
   "execution_count": 9,
   "id": "44288c8e",
   "metadata": {},
   "outputs": [
    {
     "data": {
      "text/plain": [
       "array([[842, 161,  35,  32,  36,  70,  36],\n",
       "       [135, 283,   9,   9,  14,  25,  11],\n",
       "       [ 49,  22,  17,   3,   2,   6,   5],\n",
       "       [ 44,  17,   5,   7,   8,   8,   3],\n",
       "       [ 54,  18,   2,   2,   6,   8,   3],\n",
       "       [ 97,  33,   8,   9,   8,  18,  14],\n",
       "       [ 52,  27,   1,   4,   6,  12,   2]], dtype=int64)"
      ]
     },
     "execution_count": 9,
     "metadata": {},
     "output_type": "execute_result"
    }
   ],
   "source": [
    "y_predict = pipe.predict(X_test.reshape(-1,size*size))\n",
    "\n",
    "conf_mx = confusion_matrix(y_test, y_predict)\n",
    "conf_mx"
   ]
  },
  {
   "cell_type": "code",
   "execution_count": 10,
   "id": "37227100",
   "metadata": {},
   "outputs": [
    {
     "data": {
      "text/plain": [
       "<AxesSubplot:>"
      ]
     },
     "execution_count": 10,
     "metadata": {},
     "output_type": "execute_result"
    },
    {
     "data": {
      "image/png": "[encoded data removed]",
      "text/plain": [
       "<Figure size 640x480 with 2 Axes>"
      ]
     },
     "metadata": {},
     "output_type": "display_data"
    }
   ],
   "source": [
    "import seaborn as sns\n",
    "row_sum = conf_mx.sum(axis=1, keepdims=True)\n",
    "nconf_mx = conf_mx/row_sum\n",
    "np.fill_diagonal(nconf_mx,0)\n",
    "\n",
    "sns.heatmap(nconf_mx)"
   ]
  },
  {
   "cell_type": "code",
   "execution_count": 11,
   "id": "27edcafe",
   "metadata": {},
   "outputs": [
    {
     "data": {
      "text/plain": [
       "(array([1212.,  486.,  104.,   92.,   93.,  187.,  104.]),\n",
       " array([0.        , 0.85714286, 1.71428571, 2.57142857, 3.42857143,\n",
       "        4.28571429, 5.14285714, 6.        ]),\n",
       " <BarContainer object of 7 artists>)"
      ]
     },
     "execution_count": 11,
     "metadata": {},
     "output_type": "execute_result"
    },
    {
     "data": {
      "image/png": "[encoded data removed]",
      "text/plain": [
       "<Figure size 640x480 with 1 Axes>"
      ]
     },
     "metadata": {},
     "output_type": "display_data"
    }
   ],
   "source": [
    "plt.hist(y_test, 7)"
   ]
  },
  {
   "cell_type": "code",
   "execution_count": null,
   "id": "b57336a6",
   "metadata": {},
   "outputs": [],
   "source": []
  }
 ],
 "metadata": {
  "kernelspec": {
   "display_name": "Python 3 (ipykernel)",
   "language": "python",
   "name": "python3"
  },
  "language_info": {
   "codemirror_mode": {
    "name": "ipython",
    "version": 3
   },
   "file_extension": ".py",
   "mimetype": "text/x-python",
   "name": "python",
   "nbconvert_exporter": "python",
   "pygments_lexer": "ipython3",
   "version": "3.9.13"
  }
 },
 "nbformat": 4,
 "nbformat_minor": 5
}
